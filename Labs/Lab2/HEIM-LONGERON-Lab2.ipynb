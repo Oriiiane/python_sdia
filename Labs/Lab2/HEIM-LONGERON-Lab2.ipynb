{
 "cells": [
  {
   "cell_type": "markdown",
   "metadata": {},
   "source": [
    "# Practical session 2 - Practise with classic libraries\n",
    "\n",
    "Students (pair):\n",
    "- [Killian Heim]([link](https://github.com/username1))\n",
    "- [Oriane Longeron](https://github.com/Oriiiane)"
   ]
  },
  {
   "cell_type": "markdown",
   "metadata": {},
   "source": [
    "```\n",
    "conda create --name=lab2 --file=requirement.txt\n",
    "conda activate lab2\n",
    "# do not forget to deactivate the environment if needed\n",
    "# you can remove the environment once you are done\n",
    "conda env remove --name=lab2\n",
    "```"
   ]
  },
  {
   "cell_type": "markdown",
   "metadata": {},
   "source": [
    "**Useful references for this lab**:\n",
    "\n",
    "[1] `numpy`: [lecture notes (1.4.1-1.4.2)](https://scipy-lectures.org/intro/numpy/index.html) and [documentation](https://numpy.org/doc/stable/)\n",
    "\n",
    "[2] `pandas`: [documentation](https://pandas.pydata.org/docs/getting_started/index.html), [quick tutorial](https://pandas.pydata.org/pandas-docs/version/0.15/10min.html)\n",
    "\n",
    "[3] `matplotlib`: [lecture notes (1.5)](https://scipy-lectures.org/intro/matplotlib/index.html) and [documentation](https://matplotlib.org/)\n",
    "\n",
    "[4] `h5py`: [quick start guide](http://docs.h5py.org/en/stable/quick.html#quick)"
   ]
  },
  {
   "cell_type": "markdown",
   "metadata": {},
   "source": [
    "## <a name=\"content\">Contents</a>\n",
    "- [Exercise 1: Computing basic statistics](#ex1)\n",
    "- [Exercise 2: Random variables and histograms](#ex2)\n",
    "- [Exercise 3: Discrete isotropic total variation](#ex3)\n",
    "---"
   ]
  },
  {
   "cell_type": "code",
   "execution_count": 1,
   "metadata": {},
   "outputs": [],
   "source": [
    "%load_ext autoreload\n",
    "%autoreload 2"
   ]
  },
  {
   "cell_type": "markdown",
   "metadata": {},
   "source": [
    "## <a name=\"import\">Import</a>"
   ]
  },
  {
   "cell_type": "code",
   "execution_count": 2,
   "metadata": {},
   "outputs": [],
   "source": [
    "# Exercice 1\n",
    "import numpy as np\n",
    "import h5py\n",
    "import matplotlib.pyplot as plt\n",
    "import scipy.special as sps \n",
    "\n",
    "# Exercice 2\n",
    "import pandas as pd\n",
    "from IPython.display import display\n",
    "\n",
    "# Exercice 3\n",
    "import unittest"
   ]
  },
  {
   "cell_type": "markdown",
   "metadata": {},
   "source": [
    "---\n",
    "## <a name=\"ex1\">Exercise 1: Random variables and histograms</a>\n",
    "\n",
    "In this exercise, we are interested in generating samples from the Gamma distribution $\\mathcal{G}(\\alpha,\\beta)$, of probability density function (pdf)\n",
    "\n",
    "\\begin{equation}\n",
    "    p(x) = \\frac{\\beta^\\alpha}{\\Gamma(\\alpha)} x^{\\alpha-1} \\exp(-\\beta x) \\mathbb{1}_{\\mathbb{R}_+^*}(x),\n",
    "\\end{equation}\n",
    "\n",
    "and displaying their histogram. In the following, we consider $(\\alpha, \\beta) = (9, 2)$.\n",
    "\n",
    "1\\. Set the random seed to a fixed value for reproducibility, and biefly check your instruction works as intended.\n",
    "> Hint: you may take a look at the following pages: [random module](https://numpy.org/doc/stable/reference/random/index.html?highlight=random#module-numpy.random), [random generator](https://numpy.org/doc/stable/reference/random/generator.html)."
   ]
  },
  {
   "cell_type": "markdown",
   "metadata": {},
   "source": [
    "**Answer**:"
   ]
  },
  {
   "cell_type": "code",
   "execution_count": 3,
   "metadata": {},
   "outputs": [
    {
     "name": "stdout",
     "output_type": "stream",
     "text": [
      "0.2508244581084461\n"
     ]
    }
   ],
   "source": [
    "seed = 12\n",
    "rng = np.random.default_rng(seed)\n",
    "# Generating a random number using the numpy default generator for a fixed seed of 12\n",
    "print(rng.random())"
   ]
  },
  {
   "cell_type": "code",
   "execution_count": 4,
   "metadata": {},
   "outputs": [
    {
     "name": "stdout",
     "output_type": "stream",
     "text": [
      "0.2508244581084461\n"
     ]
    }
   ],
   "source": [
    "seed = 12\n",
    "rng = np.random.default_rng(seed)\n",
    "print(rng.random())"
   ]
  },
  {
   "cell_type": "markdown",
   "metadata": {},
   "source": [
    "*By running this code several times, the same random numbers will be generated each time, proving that the instruction works as expected and guaranteeing reproducibility.*"
   ]
  },
  {
   "cell_type": "markdown",
   "metadata": {},
   "source": [
    "2\\. Generate $\\approx 10^5$ samples in a vector. Save the vector in a file, `samples.hdf5` or `samples.npy`.\n",
    "> Warning / hint: \n",
    "> - take a careful look at the [documentation](https://numpy.org/doc/stable/reference/random/generated/numpy.random.gamma.html?highlight=gamma#numpy.random.gamma) (multiple conventions exist for the definition of the pdf underlying the distribution...);\n",
    "> - to save data in a `npy` file, take a look at the example reported in the [Numpy documentation](https://numpy.org/doc/stable/reference/generated/numpy.save.html);\n",
    "> - to save data in a `.h5` file, take a quick look at the [documentation here](https://docs.h5py.org/en/stable/quick.html#quick)."
   ]
  },
  {
   "cell_type": "markdown",
   "metadata": {},
   "source": [
    "**Answer**:"
   ]
  },
  {
   "cell_type": "code",
   "execution_count": 5,
   "metadata": {},
   "outputs": [
    {
     "name": "stdout",
     "output_type": "stream",
     "text": [
      "[6.06281921 5.4887075  2.7900066  ... 4.61002724 5.96117044 4.66912906]\n"
     ]
    }
   ],
   "source": [
    "alpha = 9\n",
    "beta = 2\n",
    "\n",
    "# Generation of ~10^5 samples in a vector\n",
    "u = rng.gamma(alpha, 1/beta, 10**5)\n",
    "print(u)\n",
    "\n",
    "#Saving the data in a .npy file\n",
    "np.save(\"samples\", u)\n",
    "\n",
    "#Saving the data in a .hdf5 file \n",
    "with h5py.File('samples.hdf5', 'w') as hdf:\n",
    "    hdf.create_dataset('u', data = u)"
   ]
  },
  {
   "cell_type": "markdown",
   "metadata": {},
   "source": [
    "3\\. Estimate an histogram of this distribution for a well chosen set of bins, and display it.\n",
    "> Warnings: \n",
    "> - make sure the [histogram](https://matplotlib.org/api/_as_gen/matplotlib.pyplot.hist.html?highlight=hist#matplotlib.pyplot.hist) corresponds to a probability density function (pdf);\n",
    "> - do not forget to include a proper title with names for the axes."
   ]
  },
  {
   "cell_type": "markdown",
   "metadata": {},
   "source": [
    "**Answer**:"
   ]
  },
  {
   "cell_type": "code",
   "execution_count": 6,
   "metadata": {},
   "outputs": [
    {
     "data": {
      "image/png": "[encoded data removed]",
      "text/plain": [
       "<Figure size 640x480 with 1 Axes>"
      ]
     },
     "metadata": {},
     "output_type": "display_data"
    }
   ],
   "source": [
    "mean = alpha/beta\n",
    "std = np.sqrt(alpha)/beta\n",
    "\n",
    "plt.hist(u, 100, (1, mean + 3 * std), density = True)\n",
    "plt.title(\"Histogram of a gamma distribution with parameters alpha = 9, beta = 2\")\n",
    "plt.xlabel(\"Value taken by the distribution\")\n",
    "plt.ylabel(\"Frequency\")\n",
    "plt.plot()\n",
    "plt.show()"
   ]
  },
  {
   "cell_type": "markdown",
   "metadata": {},
   "source": [
    "4\\. Overlay the probability density function on the histogram and compare these in a few words. Save the resulting picture in `.png` format.\n",
    "> Hint: \n",
    "> - take a look at the `scipy` [documentation](https://docs.scipy.org/doc/scipy/reference/stats.html) to avoid implementing the pdf from scratch;\n",
    "> - return the bins in which the histogram is computed, and evaluate the pdf on those points."
   ]
  },
  {
   "cell_type": "markdown",
   "metadata": {},
   "source": [
    "**Answer**:"
   ]
  },
  {
   "cell_type": "code",
   "execution_count": 7,
   "metadata": {},
   "outputs": [
    {
     "data": {
      "image/png": "[encoded data removed]",
      "text/plain": [
       "<Figure size 1000x700 with 1 Axes>"
      ]
     },
     "metadata": {},
     "output_type": "display_data"
    }
   ],
   "source": [
    "count, bins = np.histogram(u, 100, (1, mean + 3 *std), density = True)\n",
    "y = bins**(alpha-1)*np.exp(-beta*bins)*(beta**alpha)/(sps.gamma(alpha))\n",
    "\n",
    "plt.figure(figsize=(10, 7))\n",
    "plt.hist(u, 100, (1, mean + 3 *std),density = True, label = \"Histogram\")\n",
    "plt.plot(bins, y, linewidth = 3, color = 'r', label = \"Probability density function\")\n",
    "\n",
    "plt.title(\"Histogram and density function of the gamma distribution (alpha = 9, beta = 2)\")\n",
    "plt.xlabel(\"Values taken by the distribution\")\n",
    "plt.ylabel(\"Frequency\") \n",
    "plt.legend()\n",
    "\n",
    "# Saving the resulting picture in .png format \n",
    "plt.savefig('gamma_distribution.png', format='png')\n",
    "\n",
    "plt.show()"
   ]
  },
  {
   "cell_type": "markdown",
   "metadata": {},
   "source": [
    "---\n",
    "## <a name=\"ex2\">Exercise 2: Basic statistics with `pandas`</a>\n",
    "\n",
    "In this second exercise, we focus on computing basic statistics, and applying linear regression to a small data set. These data are gathered in the following table, which gives the infant mortality (`X`) and the gross national product per inhabitant (`Y`) of 12 european countries :\n",
    "\n",
    "| `X` | 190 | 128 | 180 | 212 | 56 | 192 | 68 | 98 | 110 | 197 | 181 | 233 |\n",
    "|-----|-----|-----|-----|----|-----|----|----|-----|-----|-----|-----|-----|\n",
    "| `Y` |  24 |  28 |  24 | 19 |  37 | 22 | 34 |  25 |  36 |  24 |  20 |  18 |\n",
    "\n",
    "1\\. For `X `and `Y`, compute the median, mean, variance and standard deviation. The data points have already been entered into a `.csv` file stored in `data/data.csv`.\n",
    "> Hint: \n",
    "> - you can directly use `pandas` to load the data into a `DataFrame` ([`pd.read_csv`](https://pandas.pydata.org/docs/reference/frame.html));\n",
    "> - take a look at the built-in operations available for `DataFrame` objects ([documentation](https://pandas.pydata.org/docs/reference/frame.html));\n",
    "> - to display a `DataFrame` `f`:\n",
    "> ```python \n",
    "> from IPython.display import display\n",
    "> display(df)\n",
    "> ```\n",
    "> - sort the `DataFrame` with respect to the value of `X` (see [here](https://pandas.pydata.org/docs/reference/api/pandas.DataFrame.sort_values.html#pandas.DataFrame.sort_values)) This will be useful for question 3."
   ]
  },
  {
   "cell_type": "markdown",
   "metadata": {},
   "source": [
    "**Answer**:"
   ]
  },
  {
   "cell_type": "code",
   "execution_count": 8,
   "metadata": {},
   "outputs": [
    {
     "data": {
      "text/html": [
       "<div>\n",
       "<style scoped>\n",
       "    .dataframe tbody tr th:only-of-type {\n",
       "        vertical-align: middle;\n",
       "    }\n",
       "\n",
       "    .dataframe tbody tr th {\n",
       "        vertical-align: top;\n",
       "    }\n",
       "\n",
       "    .dataframe thead th {\n",
       "        text-align: right;\n",
       "    }\n",
       "</style>\n",
       "<table border=\"1\" class=\"dataframe\">\n",
       "  <thead>\n",
       "    <tr style=\"text-align: right;\">\n",
       "      <th></th>\n",
       "      <th>X</th>\n",
       "      <th>Y</th>\n",
       "    </tr>\n",
       "  </thead>\n",
       "  <tbody>\n",
       "    <tr>\n",
       "      <th>0</th>\n",
       "      <td>56</td>\n",
       "      <td>37</td>\n",
       "    </tr>\n",
       "    <tr>\n",
       "      <th>1</th>\n",
       "      <td>68</td>\n",
       "      <td>34</td>\n",
       "    </tr>\n",
       "    <tr>\n",
       "      <th>2</th>\n",
       "      <td>98</td>\n",
       "      <td>25</td>\n",
       "    </tr>\n",
       "    <tr>\n",
       "      <th>3</th>\n",
       "      <td>110</td>\n",
       "      <td>36</td>\n",
       "    </tr>\n",
       "    <tr>\n",
       "      <th>4</th>\n",
       "      <td>128</td>\n",
       "      <td>28</td>\n",
       "    </tr>\n",
       "    <tr>\n",
       "      <th>5</th>\n",
       "      <td>180</td>\n",
       "      <td>24</td>\n",
       "    </tr>\n",
       "    <tr>\n",
       "      <th>6</th>\n",
       "      <td>181</td>\n",
       "      <td>20</td>\n",
       "    </tr>\n",
       "    <tr>\n",
       "      <th>7</th>\n",
       "      <td>190</td>\n",
       "      <td>24</td>\n",
       "    </tr>\n",
       "    <tr>\n",
       "      <th>8</th>\n",
       "      <td>192</td>\n",
       "      <td>22</td>\n",
       "    </tr>\n",
       "    <tr>\n",
       "      <th>9</th>\n",
       "      <td>197</td>\n",
       "      <td>24</td>\n",
       "    </tr>\n",
       "    <tr>\n",
       "      <th>10</th>\n",
       "      <td>212</td>\n",
       "      <td>19</td>\n",
       "    </tr>\n",
       "    <tr>\n",
       "      <th>11</th>\n",
       "      <td>233</td>\n",
       "      <td>18</td>\n",
       "    </tr>\n",
       "  </tbody>\n",
       "</table>\n",
       "</div>"
      ],
      "text/plain": [
       "      X   Y\n",
       "0    56  37\n",
       "1    68  34\n",
       "2    98  25\n",
       "3   110  36\n",
       "4   128  28\n",
       "5   180  24\n",
       "6   181  20\n",
       "7   190  24\n",
       "8   192  22\n",
       "9   197  24\n",
       "10  212  19\n",
       "11  233  18"
      ]
     },
     "metadata": {},
     "output_type": "display_data"
    }
   ],
   "source": [
    "# Creation of the DataFrame\n",
    "df = pd.read_csv(\"data/data.csv\")\n",
    "\n",
    "# Sort data by X column\n",
    "df = df.sort_values(by=[\"X\"], ignore_index=True)\n",
    "\n",
    "display(df)"
   ]
  },
  {
   "cell_type": "code",
   "execution_count": 9,
   "metadata": {},
   "outputs": [
    {
     "name": "stdout",
     "output_type": "stream",
     "text": [
      "Median :\n",
      "X    180.5\n",
      "Y     24.0\n",
      "dtype: float64\n"
     ]
    }
   ],
   "source": [
    "# Computation of the median for X and Y\n",
    "medians = df.median()\n",
    "\n",
    "print(\"Median :\")\n",
    "print(medians)"
   ]
  },
  {
   "cell_type": "code",
   "execution_count": 10,
   "metadata": {},
   "outputs": [
    {
     "name": "stdout",
     "output_type": "stream",
     "text": [
      "Mean :\n",
      "X    153.750000\n",
      "Y     25.916667\n",
      "dtype: float64\n"
     ]
    }
   ],
   "source": [
    "# Computation of the median for X and Y\n",
    "means = df.mean()\n",
    "\n",
    "print(\"Mean :\")\n",
    "print(means)"
   ]
  },
  {
   "cell_type": "code",
   "execution_count": 11,
   "metadata": {},
   "outputs": [
    {
     "name": "stdout",
     "output_type": "stream",
     "text": [
      "Variance :\n",
      "X    3486.022727\n",
      "Y      42.446970\n",
      "dtype: float64\n"
     ]
    }
   ],
   "source": [
    "# Computation of the variance for X and Y\n",
    "variances = df.var()\n",
    "\n",
    "print(\"Variance :\")\n",
    "print(variances)"
   ]
  },
  {
   "cell_type": "code",
   "execution_count": 12,
   "metadata": {},
   "outputs": [
    {
     "name": "stdout",
     "output_type": "stream",
     "text": [
      "Standard deviation :\n",
      "X    59.042550\n",
      "Y     6.515134\n",
      "dtype: float64\n"
     ]
    }
   ],
   "source": [
    "# Computation of the standard deviation for X and Y\n",
    "stds = df.std()\n",
    "\n",
    "print(\"Standard deviation :\")\n",
    "print(stds)"
   ]
  },
  {
   "cell_type": "markdown",
   "metadata": {},
   "source": [
    "2\\. Give the equation of the regression line of `Y` as a function of `X`.\n",
    "> Hint: \n",
    "> - take a look at the functionalities available in `numpy` (e.g., `np.polyfit` and `np.polyval`);\n",
    "> - if needed, note that you can retrieve the data from the resulting `pandas` `DataFrame` with the `to_numpy()` method."
   ]
  },
  {
   "cell_type": "markdown",
   "metadata": {},
   "source": [
    "**Answer**:"
   ]
  },
  {
   "cell_type": "code",
   "execution_count": 13,
   "metadata": {},
   "outputs": [
    {
     "name": "stdout",
     "output_type": "stream",
     "text": [
      "The equation is : Y = -0.10*X + 41.01\n",
      "Predicted Y values : [35.51227087 34.33429388 31.38935141 30.21137443 28.44440895 23.33984201\n",
      " 23.24167726 22.35819452 22.16186502 21.67104128 20.19857005 18.13711032]\n"
     ]
    }
   ],
   "source": [
    "# Convert DataFrame data into a numpy array\n",
    "X = df['X'].to_numpy()\n",
    "Y = df['Y'].to_numpy()\n",
    "\n",
    "# Linear regression with np.polyfit (degree 1 for a straight line)\n",
    "pente, origine = np.polyfit(X, Y, 1)\n",
    "\n",
    "# Display the equation of the regression line\n",
    "print(f\"The equation is : Y = {pente:.2f}*X + {origine:.2f}\")\n",
    "\n",
    "# Prediction of Y values using np.polyval\n",
    "Y_pred = np.polyval([pente, origine], X)\n",
    "\n",
    "# Display of predicted Y values\n",
    "print(\"Predicted Y values :\", Y_pred)"
   ]
  },
  {
   "cell_type": "markdown",
   "metadata": {},
   "source": [
    "3\\. Display the cloud of points and the regression line $Y = f(X)$ on the same figure. Save the figure in `.png` format."
   ]
  },
  {
   "cell_type": "markdown",
   "metadata": {},
   "source": [
    "**Answer**:"
   ]
  },
  {
   "cell_type": "code",
   "execution_count": 14,
   "metadata": {},
   "outputs": [
    {
     "data": {
      "image/png": "[encoded data removed]",
      "text/plain": [
       "<Figure size 640x480 with 1 Axes>"
      ]
     },
     "metadata": {},
     "output_type": "display_data"
    }
   ],
   "source": [
    "plt.plot(X,Y_pred, color='red')\n",
    "plt.scatter(X,Y)\n",
    "plt.xlabel('X')\n",
    "plt.ylabel('Y')\n",
    "plt.title(\"Cloud of points and regression line Y = f(X)\")\n",
    "\n",
    "# Saving the resulting picture in .png format \n",
    "plt.savefig('linear_regression.png', format='png')\n",
    "plt.show()"
   ]
  },
  {
   "cell_type": "markdown",
   "metadata": {},
   "source": [
    "---\n",
    "## <a name=\"ex3\">Exercise 3: Discrete isotropic total variation</a>\n",
    "\n",
    "This exercise is devoted to the computation of the discrete isotropic total variation (TV) of an input matrix $\\mathbf{X} = [\\mathbf{x}_n]_{1 \\leq n \\leq N} \\in\\mathbb{C}^{M \\times N}$, which is particularly useful in Bayesian inference (e.g., for inverse problems) to promote piece-wise smooth solutions. The TV is defined as\n",
    "\n",
    "\\begin{equation*}\n",
    "    \\text{TV}(\\mathbf{X}) = \\Vert D(\\mathbf{X}) \\Vert_{1,2} = \\sum_{m=1}^M \\sum_{n=1}^N \\sqrt{[\\mathbf{XD}_h]^2_{m,n} + [\\mathbf{D}_v\\mathbf{X}]^2_{m,n}},\n",
    "\\end{equation*}\n",
    "\n",
    "where $[\\mathbf{Z}]_{m,n}$ denotes the elements in position $(m,n)$ of the matrix $\\mathbf{Z}$,\n",
    "\n",
    "\\begin{align*}\n",
    "    D(X) &= (\\mathbf{XD}_h, \\mathbf{D}_v\\mathbf{X}) \\in \\mathbb{C}^{M\\times N} \\times \\mathbb{C}^{M\\times N} \\\\\n",
    "    %\n",
    "    \\mathbf{XD}_h &= [\\mathbf{x}_2-\\mathbf{x}_1, \\dotsc, \\mathbf{x}_N-\\mathbf{x}_{N-1}, \\mathbf{0}_M] \\in \\mathbb{C}^{M\\times N} \\\\\n",
    "    %\n",
    "    \\mathbf{D}_v\\mathbf{X} &= [\\tilde{\\mathbf{x}}_2^T-\\tilde{\\mathbf{x}}^T_1, \\dotsc, \\tilde{\\mathbf{x}}^T_M-\\tilde{\\mathbf{x}}^T_{M-1}, \\mathbf{0}_N]^T \\in \\mathbb{C}^{M\\times N},\n",
    "\\end{align*}\n",
    "\n",
    "$\\mathbf{x}_n \\in \\mathbb{C}^{M}$ is the $n$-th column of $\\mathbf{X}$, and $\\tilde{\\mathbf{x}}_m \\in \\mathbb{C}^{1\\times N}$ is the $m$-th row of $\\mathbf{X}$. \n",
    "The linear operator $D: \\mathbb{C}^{M\\times N} \\rightarrow \\mathbb{C}^{M\\times N} \\times \\mathbb{C}^{M\\times N} $ is the discrete gradient operator. The adjoint of $D$, $D^*: \\mathbb{C}^{M\\times N} \\times \\mathbb{C}^{M\\times N} \\rightarrow \\mathbb{C}^{M\\times N}$, is given by\n",
    "\n",
    "\\begin{align*}\n",
    "    (\\forall \\mathbf{Y} = (\\mathbf{Y}_h,\\mathbf{Y}_v)), \\quad D^*(\\mathbf{Y}) &= \\mathbf{Y}_h\\mathbf{D}^*_h + \\mathbf{D}^*_v\\mathbf{Y}_v \\\\\n",
    "    %\n",
    "    \\mathbf{Y}_h\\mathbf{D}^*_h &= \\big[-\\mathbf{y}_{h,1},- [\\mathbf{y}_{h,n}-\\mathbf{y}_{h,n-1}]_{2 \\leq n \\leq N-1}, \\mathbf{y}_{h, N-1} \\big] \\\\\n",
    "    %\n",
    "    \\mathbf{D}^*_v\\mathbf{Y}_v &= \\big[-\\tilde{\\mathbf{y}}_{v,1}^T,- [\\tilde{\\mathbf{y}}_{v,m}^T-\\tilde{\\mathbf{y}}^T_{v,m-1}]_{2 \\leq m \\leq M-1}, \\tilde{\\mathbf{y}}^T_{v, M-1} \\big]^T\n",
    "\\end{align*}\n",
    "\n",
    "where $\\mathbf{y}_{h,n}$ is the $n$-th column of $\\mathbf{Y}_h$, and $\\tilde{\\mathbf{x}}_{v,m}$ is the $m$-th row of $\\mathbf{Y}_v$.\n",
    "\n",
    "1\\. Using `numpy`, implement a function `gradient2D` to compute the 2D discrete gradient operator $D$ applied to a matrix $\\mathbf{X}\\in\\mathbb{C}^{M \\times N}$ (no for loops!). Trigger an error message whenever the input array has more than 2 dimensions. If not clear from the implementation, add a few short comments to explain your code.\n",
    "\n",
    "> Hint: \n",
    "> - to trigger an error, you can for instance use an `assert` statement, or raise an [exception (e.g., `AssertionError`)](https://docs.python.org/3/library/exceptions.html);\n",
    "> - only a few operations are needed: computing vertical differences, horizontal differences, and possibly a concatenation of matrices into a single tensor (= n-dimensional array);\n",
    "> - possibly useful functions: `np.diff`, `np.c_`, `np.r_` (or `np.concatenate`). "
   ]
  },
  {
   "cell_type": "markdown",
   "metadata": {},
   "source": [
    "**Answer**:"
   ]
  },
  {
   "cell_type": "code",
   "execution_count": 15,
   "metadata": {},
   "outputs": [
    {
     "name": "stdout",
     "output_type": "stream",
     "text": [
      "[[ 3.  2.]\n",
      " [-4. -5.]\n",
      " [ 0.  0.]]\n"
     ]
    }
   ],
   "source": [
    "def gradient2D(X):\n",
    "    \"\"\" This is a function that computes the 2D discrete gradient of a matrix X. \n",
    "\n",
    "    Arguments: \n",
    "        X {np.darray} -- Array to which the discrete gradient operator is applied\n",
    "\n",
    "    Raises:\n",
    "        AssertionError -- Raises an error if the input array has more than 2 dimensions\n",
    "\n",
    "    Returns:\n",
    "        (XDh, DvX) {tuple} -- Returns a tuple that contains the two arrays XDh {np.darray} and DvX {np.darray} \n",
    "    \"\"\"\n",
    "    \n",
    "    assert np.ndim(X) <= 2, \"The input array cannot have more than 2 dimensions.\"\n",
    "\n",
    "    # Computing the horizontal difference of coefficients for X\n",
    "    XDh = np.diff(X)\n",
    "\n",
    "    # We distinct the case where the dimension of the input array has only one dimension\n",
    "    if np.ndim(X) == 1:\n",
    "        # For the case np.ndim(X) = 1, the matrix correspond to DvX\n",
    "        DvX = np.concatenate(([XDh, [0]]))\n",
    "        \n",
    "        # In this case XDh is a matrix of same shape than X with only zeros\n",
    "        return (np.zeros(X.shape), DvX) \n",
    "        \n",
    "    elif np.ndim(X) == 2:\n",
    "        DvX = np.diff(X, axis = 0) \n",
    "        \n",
    "        zeroColumn = np.zeros(((X.shape)[0],1))\n",
    "        zeroRow = np.zeros((1, (X.shape)[1]))\n",
    "        \n",
    "        # XDh is the concatenation of np.diff(X) and a column of zeros\n",
    "        XDh = np.concatenate([XDh, zeroColumn], axis = 1) \n",
    "        # DvX is the concatenation of np.diff(X, axis = 0) and a row of zeros\n",
    "        DvX = np.concatenate([DvX, zeroRow], axis = 0)\n",
    "        \n",
    "        return (XDh, DvX)\n",
    "\n",
    "X = np.array([[2,4],[5,6],[1,1]])\n",
    "print(gradient2D(X)[1])"
   ]
  },
  {
   "cell_type": "markdown",
   "metadata": {},
   "source": [
    "2\\. Implement a unit-test to validate the behaviour of the `gradient2D` function. For instance, you can check the format of the output, and test the result when the function is evaluated on a constant matrix (for both a square and a non-square input matrix). Run the unit-test from the present Jupyter notebook."
   ]
  },
  {
   "cell_type": "markdown",
   "metadata": {},
   "source": [
    "**Answer**:"
   ]
  },
  {
   "cell_type": "code",
   "execution_count": 16,
   "metadata": {},
   "outputs": [
    {
     "name": "stderr",
     "output_type": "stream",
     "text": [
      "....\n",
      "----------------------------------------------------------------------\n",
      "Ran 4 tests in 0.003s\n",
      "\n",
      "OK\n"
     ]
    },
    {
     "data": {
      "text/plain": [
       "<unittest.runner.TextTestResult run=4 errors=0 failures=0>"
      ]
     },
     "execution_count": 16,
     "metadata": {},
     "output_type": "execute_result"
    }
   ],
   "source": [
    "class testGradient2D(unittest.TestCase):\n",
    "    def test_output_format(self):\n",
    "        X = np.array([[7,1,3],[8,1,2],[2,9,4],[5,3,2]])\n",
    "        gradX = gradient2D(X)\n",
    "        self.assertIsInstance(gradX, tuple) \n",
    "        self.assertEqual(len(gradX),2)\n",
    "        self.assertIsInstance(gradX[0],np.ndarray)\n",
    "        self.assertIsInstance(gradX[1],np.ndarray)\n",
    "        self.assertEqual(gradX[0].shape,X.shape)\n",
    "        self.assertEqual(gradX[1].shape,X.shape)\n",
    "\n",
    "    def test_on_constant_square_matrix(self):\n",
    "        X = np.array([[1,1,1],[1,1,1],[1,1,1]])\n",
    "        gradX = gradient2D(X)\n",
    "        self.assertEqual(np.any(gradX[0]),False)\n",
    "        self.assertEqual(np.any(gradX[1]),False)\n",
    "\n",
    "    def test_on_constant_non_square_matrix(self):\n",
    "        X = np.array([[2,2],[2,2],[2,2]])\n",
    "        gradX = gradient2D(X)\n",
    "        self.assertEqual(np.any(gradX[0]),False)\n",
    "        self.assertEqual(np.any(gradX[1]),False)\n",
    "        \n",
    "    def test_for_higher_dimensions(self): # Testing if gradient2D returns an AssertionError when the number of dimensions is superior to 2\n",
    "        np.random.seed(15)\n",
    "        X = np.random.rand(3,3,3)\n",
    "        with self.assertRaises(AssertionError):\n",
    "            gradient2D(X)\n",
    "        \n",
    "        \n",
    "unittest.TextTestRunner().run(unittest.TestLoader().loadTestsFromTestCase(testGradient2D))\n",
    "     "
   ]
  },
  {
   "cell_type": "markdown",
   "metadata": {},
   "source": [
    "3\\. Document the function `gradient2D` with an appropriate docstring (see Lab 1)."
   ]
  },
  {
   "cell_type": "markdown",
   "metadata": {},
   "source": [
    "**Answer**:"
   ]
  },
  {
   "cell_type": "markdown",
   "metadata": {},
   "source": [
    "*Doctring added to the gradient2D function (please refer to question 1).*"
   ]
  },
  {
   "cell_type": "markdown",
   "metadata": {},
   "source": [
    "4\\. Using 1., define a function `tv` to compute $\\text{TV}(\\mathbf{X})$, $\\mathbf{X}\\in\\mathbb{C}^{M \\times N}$. Write a unit-test and document your function."
   ]
  },
  {
   "cell_type": "markdown",
   "metadata": {},
   "source": [
    "**Answer**:"
   ]
  },
  {
   "cell_type": "code",
   "execution_count": 17,
   "metadata": {},
   "outputs": [
    {
     "data": {
      "text/plain": [
       "8.287196908580512"
      ]
     },
     "execution_count": 17,
     "metadata": {},
     "output_type": "execute_result"
    }
   ],
   "source": [
    "def TV(X):\n",
    "    \"\"\" This is a function that compute the discrete isotropic total variation of an array X using the gradient2D function. \n",
    "\n",
    "    Arguments: \n",
    "        X {np.darray} -- Array to which the TV is calculated\n",
    "\n",
    "    Returns:\n",
    "        np.sum(M) {float} -- Returns the TV of the array X. Note that np.sum(M) is always positive by definition. \n",
    "    \"\"\"\n",
    "    grad = gradient2D(X)\n",
    "    # We define an array of generic term sqrt(|XDh|**2(m,n)+|DvX|**2(m,n))\n",
    "    M = np.sqrt(np.absolute(grad[0])**2 + np.absolute(grad[1])**2)\n",
    "\n",
    "    # We obtain the TV of X by summing the coefficients of the array M\n",
    "    return(np.sum(M))\n",
    "    \n",
    "X = np.array([[1+2j,4+1j],[2,5]])\n",
    "TV(X)"
   ]
  },
  {
   "cell_type": "code",
   "execution_count": 18,
   "metadata": {},
   "outputs": [
    {
     "name": "stderr",
     "output_type": "stream",
     "text": [
      "....\n",
      "----------------------------------------------------------------------\n",
      "Ran 4 tests in 0.003s\n",
      "\n",
      "OK\n"
     ]
    },
    {
     "data": {
      "text/plain": [
       "<unittest.runner.TextTestResult run=4 errors=0 failures=0>"
      ]
     },
     "execution_count": 18,
     "metadata": {},
     "output_type": "execute_result"
    }
   ],
   "source": [
    "class testTV(unittest.TestCase):\n",
    "    def test_on_constant_square_matrix(self): # A constant matrix should have a TV of 0 \n",
    "        X = np.array([[1,1,1],[1,1,1],[1,1,1]])\n",
    "        self.assertEqual(TV(X),0)\n",
    "        \n",
    "    def test_on_constant_non_square_matrix(self):\n",
    "        X = np.array([[2,2],[2,2],[2,2]])\n",
    "        self.assertEqual(TV(X),0)\n",
    "        \n",
    "    def test_output_format_for_real_coefficients(self):\n",
    "        X = np.array([[7,1,3],[8,1,2],[2,9,4],[5,3,2]])\n",
    "        self.assertIsInstance(TV(X),float)\n",
    "        \n",
    "    def test_output_format_for_complex_coefficients(self):\n",
    "        X = np.array([[1+2j,4+1j],[2,5]])\n",
    "        self.assertIsInstance(TV(X),float)\n",
    "        self.assertGreaterEqual(TV(X),0)\n",
    "\n",
    "unittest.TextTestRunner().run(unittest.TestLoader().loadTestsFromTestCase(testTV))"
   ]
  },
  {
   "cell_type": "markdown",
   "metadata": {},
   "source": [
    "5\\. Implement a function `gradient2D_adjoint` to compute $D^*(\\mathbf{Y})$, the adjoint of the 2D discrete gradient operator $D$ applied to $\\mathbf{Y}\\in\\mathbb{C}^{M \\times N}\\times \\mathbb{C}^{M \\times N}$. Add a few short comments to explain your code whenever appropriate."
   ]
  },
  {
   "cell_type": "markdown",
   "metadata": {},
   "source": [
    "**Answer**:"
   ]
  },
  {
   "cell_type": "code",
   "execution_count": 19,
   "metadata": {},
   "outputs": [],
   "source": [
    "def gradient2D_adjoint(Y):\n",
    "    \"\"\" This is a function that computes the adjoint of the gradient of a 2D matrix. \n",
    "\n",
    "    Arguments: \n",
    "        (X,Y) {tuple} -- Tuple of two arrays on which the adjoint is applied.\n",
    "\n",
    "    Returns:\n",
    "        YhDh + DvYv {np.darray} -- Returns an array of same shape than the entries X and Y.  \n",
    "    \"\"\"\n",
    "    \n",
    "    Yh = Y[0]\n",
    "    Yv = Y[1]\n",
    "    \n",
    "    YhDh = np.concatenate([np.transpose([-Yh[:,0]]),-np.diff(Yh[:,:-1]),np.transpose([Yh[:,-2]])], axis = 1)\n",
    "    DvYv = np.concatenate([[-Yv[0,:]],-np.diff(Yv[:-1,:], axis = 0),[Yv[-2,:]]], axis = 0)\n",
    "    \n",
    "    return YhDh + DvYv"
   ]
  },
  {
   "cell_type": "markdown",
   "metadata": {},
   "source": [
    "6\\. Implement a unit-test to validate `gradient2D_adjoint`, e.g., by checking the size of the output from the function and verifying that `gradient2D_adjoint` is adjoint to `gradient2D`, i.e., for any $\\mathbf{X}\\in\\mathbb{C}^{M \\times N}$ and $\\mathbf{Y}\\in\\mathbb{C}^{M \\times N}\\times \\mathbb{C}^{M \\times N}$:\n",
    "\n",
    "\\begin{equation}\n",
    "    \\forall \\mathbf{X} \\in \\mathbb{C}^{M \\times N}, \\mathbf{Y} = (\\mathbf{Y}_h, \\mathbf{Y}_v) \\in \\mathbb{C}^{M \\times N} \\times \\mathbb{C}^{M \\times N}, \\;\n",
    "    %\n",
    "    \\langle D(\\mathbf{X}), \\mathbf{Y} \\rangle_{\\mathbb{C}^{M \\times N} \\times \\mathbb{C}^{M \\times N}} = \\langle \\mathbf{X}, D^*(\\mathbf{Y}) \\rangle_{\\mathbb{C}^{M \\times N}}, \n",
    "\\end{equation}\n",
    "\n",
    "where \n",
    "\n",
    "\\begin{align}\n",
    "    &\\forall \\mathbf{U}, \\mathbf{V} \\in \\mathbb{C}^{M \\times N}, \\; \\langle \\mathbf{U}, \\mathbf{V} \\rangle_{\\mathbb{C}^{M \\times N}} = \\text{Tr}(\\mathbf{U}^T \\mathbf{V}) = \\sum_{m=1}^M \\sum_{n=1}^N u_{m,n}^* v_{m,n}, \\\\\n",
    "    &\\forall \\mathbf{U} = (\\mathbf{U}_h, \\mathbf{U}_v), \\mathbf{V} = (\\mathbf{V}_h, \\mathbf{V}_v) \\in \\mathbb{C}^{M \\times N} \\times \\mathbb{C}^{M \\times N}, \\; \\langle \\mathbf{U}, \\mathbf{V} \\rangle_{\\mathbb{C}^{M \\times N} \\times \\mathbb{C}^{M \\times N}} = \\langle \\mathbf{U}_h, \\mathbf{V}_h \\rangle_{\\mathbb{C}^{M \\times N}} + \\langle \\mathbf{U}_v, \\mathbf{V}_v \\rangle_{\\mathbb{C}^{M \\times N}}.\n",
    "\\end{align}\n",
    "\n",
    "> Hint: to verify `gradient2D_adjoint` is the adjoint of `gradient2D`, evaluate the scalar products above for randomly drawn matrices. Set the random generator to a known state for reproducibility (see [Exercise 1](#ex1)).\n",
    "> `np.conj` is useful."
   ]
  },
  {
   "cell_type": "markdown",
   "metadata": {},
   "source": [
    "**Answer**:"
   ]
  },
  {
   "cell_type": "code",
   "execution_count": 20,
   "metadata": {},
   "outputs": [
    {
     "name": "stderr",
     "output_type": "stream",
     "text": [
      "..\n",
      "----------------------------------------------------------------------\n",
      "Ran 2 tests in 0.002s\n",
      "\n",
      "OK\n"
     ]
    },
    {
     "data": {
      "text/plain": [
       "<unittest.runner.TextTestResult run=2 errors=0 failures=0>"
      ]
     },
     "execution_count": 20,
     "metadata": {},
     "output_type": "execute_result"
    }
   ],
   "source": [
    "class test_gradient2D_adjoint(unittest.TestCase):\n",
    "    \n",
    "    def test_output_format(self):\n",
    "        np.random.seed(18)\n",
    "        rows = np.random.randint(1,10)\n",
    "        cols = np.random.randint(1,10)\n",
    "        M = np.random.rand(rows,cols)\n",
    "        N = np.random.rand(rows,cols)\n",
    "        gradA = gradient2D_adjoint((M,N))\n",
    "        # Checking if the size of the output is the same as the size of the entries\n",
    "        self.assertEqual(gradA.shape,M.shape)\n",
    "        self.assertEqual(gradA.shape,N.shape)\n",
    "        \n",
    "    def test_checking_if_adjoint(self):\n",
    "        epsilon = 1e-15\n",
    "        np.random.seed(18)\n",
    "        rows = np.random.randint(1,10)\n",
    "        cols = np.random.randint(1,10)\n",
    "        \n",
    "        X = np.random.rand(rows,cols)\n",
    "        Yh = np.random.rand(rows,cols)\n",
    "        Yv = np.random.rand(rows,cols)\n",
    "        \n",
    "        XDh = gradient2D(X)[0]\n",
    "        DvX = gradient2D(X)[1]\n",
    "        DY = gradient2D_adjoint((Yh,Yv))\n",
    "        \n",
    "        dot_DX_Y = np.trace((np.conjugate(np.transpose(XDh)))@Yh) + np.trace((np.conjugate(np.transpose(DvX)))@Yv)\n",
    "        dot_X_DY = np.trace((np.conjugate(np.transpose(X)))@DY)\n",
    "        self.assertLessEqual(np.abs(dot_DX_Y - dot_X_DY), epsilon)\n",
    "\n",
    "unittest.TextTestRunner().run(unittest.TestLoader().loadTestsFromTestCase(test_gradient2D_adjoint))  "
   ]
  },
  {
   "cell_type": "markdown",
   "metadata": {},
   "source": [
    "[Bonus, **optional**]. Generalize the `gradient2D` to any number of dimensions ($\\mathbf{X} \\in \\mathbb{C}^{N_1 \\times N_2 \\times \\dotsc \\times N_p}$), i.e., by returning tensors obtained by computing differences along each of its dimensions.\n",
    "> Hint: \n",
    "> - you may use a loops here, and/or list comprehension. Using slice objects (see [np.s_](https://numpy.org/doc/stable/reference/generated/numpy.s_.html?highlight=s_#numpy.s_) and [this page](https://stackoverflow.com/questions/24432209/python-index-an-array-using-the-colon-operator-in-an-arbitrary-dimension)) can be an interesting option.\n",
    ">\n",
    "> - the definition of the scalar product above can be extended to the case of tensors as follows:\n",
    "\\begin{equation}\n",
    "    \\mathbf{U}, \\mathbf{V} \\in \\mathbb{C}^{N_1 \\times N_2 \\times \\dotsc \\times N_p}, \\; \\langle \\mathbf{U}, \\mathbf{V} \\rangle_{\\mathbb{C}^{N_1 \\times N_2 \\times \\dotsc \\times N_p}} =  \\sum_{n_1 = 1}^{N_1}  \\sum_{n_2 = 1}^{N_2} \\dotsc \\sum_{n_p = 1}^{N_p} u_{n_1, n_2, \\dotsc, n_p}^* v_{n_1, n_2, \\dotsc, n_p}   \n",
    "\\end{equation}"
   ]
  },
  {
   "cell_type": "markdown",
   "metadata": {},
   "source": [
    "**Answer**:"
   ]
  },
  {
   "cell_type": "code",
   "execution_count": 21,
   "metadata": {},
   "outputs": [],
   "source": [
    "# your code"
   ]
  },
  {
   "cell_type": "markdown",
   "metadata": {},
   "source": [
    "## Reference\n",
    "\n",
    "```bibtex\n",
    "@article{condat:hal-01309685,\n",
    "  TITLE = {{Discrete Total Variation: New Definition and Minimization}},\n",
    "  AUTHOR = {Condat, Laurent},\n",
    "  URL = {https://hal.archives-ouvertes.fr/hal-01309685},\n",
    "  JOURNAL = {{SIAM Journal on Imaging Sciences}},\n",
    "  PUBLISHER = {{Society for Industrial and Applied Mathematics}},\n",
    "  VOLUME = {10},\n",
    "  NUMBER = {3},\n",
    "  PAGES = {1258--1290},\n",
    "  YEAR = {2017},\n",
    "  MONTH = Aug,\n",
    "  DOI = {10.1137/16M1075247},\n",
    "  KEYWORDS = { variational image processing ; total variation ;  finite-difference schemes ;  coarea formula},\n",
    "  PDF = {https://hal.archives-ouvertes.fr/hal-01309685v3/file/Condat-newTV.pdf},\n",
    "  HAL_ID = {hal-01309685},\n",
    "  HAL_VERSION = {v3},\n",
    "}\n",
    "```\n"
   ]
  }
 ],
 "metadata": {
  "kernelspec": {
   "display_name": "Python 3 (ipykernel)",
   "language": "python",
   "name": "python3"
  },
  "language_info": {
   "codemirror_mode": {
    "name": "ipython",
    "version": 3
   },
   "file_extension": ".py",
   "mimetype": "text/x-python",
   "name": "python",
   "nbconvert_exporter": "python",
   "pygments_lexer": "ipython3",
   "version": "3.11.7"
  },
  "vscode": {
   "interpreter": {
    "hash": "916dbcbb3f70747c44a77c7bcd40155683ae19c65e1c03b4aa3499c5328201f1"
   }
  }
 },
 "nbformat": 4,
 "nbformat_minor": 4
}
